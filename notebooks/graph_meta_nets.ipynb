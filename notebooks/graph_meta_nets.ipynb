{
 "cells": [
  {
   "cell_type": "markdown",
   "metadata": {},
   "source": [
    "**[Graph metanetworks for processing diverse neural architectures](https://arxiv.org/abs/2312.04501)**"
   ]
  },
  {
   "cell_type": "markdown",
   "metadata": {},
   "source": [
    "our setup: given noisy vector $z_t$, predict the denoised version $\\hat x$ and compute loss against gt $x$. "
   ]
  },
  {
   "cell_type": "code",
   "execution_count": 2,
   "metadata": {},
   "outputs": [],
   "source": [
    "%load_ext autoreload\n",
    "%autoreload 2"
   ]
  },
  {
   "cell_type": "code",
   "execution_count": 7,
   "metadata": {},
   "outputs": [],
   "source": [
    "import sys\n",
    "sys.path.append('/home/cizinsky/x-to-nif/')\n",
    "\n",
    "from helpers.dataset import ParamDataset\n",
    "import helpers.gmn.model_arch_graph as mag\n",
    "from helpers.gmn.graph_models import EdgeMPNN\n",
    "from helpers.utils import flatten_params, unflatten_params, get_pretrained_sequential\n",
    "\n",
    "from omegaconf import OmegaConf\n",
    "\n",
    "import torch\n",
    "import torch.nn as nn"
   ]
  },
  {
   "cell_type": "code",
   "execution_count": 3,
   "metadata": {},
   "outputs": [],
   "source": [
    "cfg = OmegaConf.load('/home/cizinsky/x-to-nif/configs/train.yaml')\n",
    "cfg.username = 'cizinsky'"
   ]
  },
  {
   "cell_type": "code",
   "execution_count": 4,
   "metadata": {},
   "outputs": [],
   "source": [
    "dataset = ParamDataset(cfg)"
   ]
  },
  {
   "cell_type": "code",
   "execution_count": 17,
   "metadata": {},
   "outputs": [
    {
     "data": {
      "text/plain": [
       "(torch.Size([96, 48]), torch.Size([96]), torch.Size([12, 96]))"
      ]
     },
     "execution_count": 17,
     "metadata": {},
     "output_type": "execute_result"
    }
   ],
   "source": [
    "sample = dataset[0]\n",
    "w1, b1, w2 = sample['raw_weights']\n",
    "w1.shape, b1.shape, w2.shape"
   ]
  },
  {
   "cell_type": "code",
   "execution_count": 19,
   "metadata": {},
   "outputs": [
    {
     "data": {
      "text/plain": [
       "torch.Size([1, 12])"
      ]
     },
     "execution_count": 19,
     "metadata": {},
     "output_type": "execute_result"
    }
   ],
   "source": [
    "# Model definition\n",
    "mlp = nn.Sequential(\n",
    "    nn.Linear(48, 96, bias=True),\n",
    "    nn.ReLU(),\n",
    "    nn.Linear(96, 12, bias=False),\n",
    ")\n",
    "\n",
    "# Load weights into model\n",
    "with torch.no_grad():\n",
    "    mlp[0].weight.copy_(w1)\n",
    "    mlp[0].bias.copy_(b1)\n",
    "    mlp[2].weight.copy_(w2)\n",
    "\n",
    "# Forward pass\n",
    "x = torch.randn(1, 48)\n",
    "y = mlp(x)\n",
    "y.shape\n"
   ]
  },
  {
   "cell_type": "code",
   "execution_count": 15,
   "metadata": {},
   "outputs": [
    {
     "data": {
      "text/plain": [
       "(torch.Size([96, 48]), torch.Size([96]), torch.Size([12, 96]))"
      ]
     },
     "execution_count": 15,
     "metadata": {},
     "output_type": "execute_result"
    }
   ],
   "source": [
    "mlp[0].weight.shape, mlp[0].bias.shape, mlp[2].weight.shape"
   ]
  },
  {
   "cell_type": "code",
   "execution_count": 7,
   "metadata": {},
   "outputs": [
    {
     "data": {
      "text/plain": [
       "(list,\n",
       " 2,\n",
       " [torch.nn.modules.linear.Linear, Parameter containing:\n",
       "  tensor([[ 0.2215,  0.0023, -0.0210,  ...,  0.0024, -0.0186, -0.0290],\n",
       "          [-0.0213, -0.0966,  0.0135,  ..., -0.0765, -0.1125,  0.0733],\n",
       "          [-0.1921,  0.0981,  0.0883,  ...,  0.0058, -0.1396,  0.1041],\n",
       "          ...,\n",
       "          [ 0.1184,  0.0997,  0.1147,  ...,  0.0259, -0.0215, -0.0824],\n",
       "          [-0.1287,  0.0377,  0.1366,  ...,  0.0547,  0.0637, -0.1206],\n",
       "          [ 0.2087, -0.0422,  0.0703,  ..., -0.0186, -0.0054,  0.0456]],\n",
       "         requires_grad=True), Parameter containing:\n",
       "  tensor([ 0.1093, -0.1692,  0.0345,  0.0764, -0.0247,  0.1140,  0.0768, -0.0306,\n",
       "           0.0280,  0.0743, -0.0265,  0.0013, -0.1078,  0.0663, -0.1150, -0.0128,\n",
       "          -0.1199,  0.0737,  0.0440,  0.0583, -0.1369, -0.0431, -0.1172, -0.0818,\n",
       "           0.0882, -0.0273, -0.1061, -0.0242, -0.0260,  0.0494, -0.1348, -0.0375,\n",
       "           0.0815,  0.0613, -0.1269, -0.0346, -0.0781,  0.0851,  0.0308, -0.0231,\n",
       "           0.0229, -0.1232,  0.1301, -0.1122,  0.0922, -0.1055,  0.0148, -0.0745,\n",
       "           0.1048,  0.1005,  0.0136, -0.0091,  0.0208,  0.0318, -0.1106,  0.0468,\n",
       "          -0.0567,  0.1070,  0.0939, -0.1340, -0.0295,  0.1052, -0.0908,  0.0140,\n",
       "           0.0097,  0.1123,  0.0812,  0.0521, -0.1252, -0.1091,  0.0449,  0.0324,\n",
       "          -0.0848, -0.1088,  0.1076, -0.0634, -0.1304, -0.0633, -0.0136, -0.0598,\n",
       "           0.0555, -0.0958, -0.0297,  0.0536, -0.0686, -0.0520,  0.1062,  0.0393,\n",
       "           0.1291,  0.0009, -0.0971, -0.1812,  0.0280,  0.1568,  0.0230,  0.0123],\n",
       "         requires_grad=True)],\n",
       " [torch.nn.modules.linear.Linear,\n",
       "  Parameter containing:\n",
       "  tensor([[-0.0144, -0.0026,  0.0351,  ..., -0.0087,  0.0493, -0.0395],\n",
       "          [-0.0377, -0.0556,  0.0018,  ..., -0.0373,  0.0240,  0.0018],\n",
       "          [ 0.0397,  0.0452,  0.0220,  ..., -0.0669,  0.0180, -0.0077],\n",
       "          ...,\n",
       "          [-0.0099,  0.0051, -0.0161,  ..., -0.0395,  0.0405, -0.0479],\n",
       "          [ 0.0417,  0.0219, -0.0414,  ...,  0.0444,  0.0125,  0.0012],\n",
       "          [-0.0208, -0.0158,  0.0421,  ..., -0.0061, -0.0830,  0.0488]],\n",
       "         requires_grad=True),\n",
       "  None])"
      ]
     },
     "execution_count": 7,
     "metadata": {},
     "output_type": "execute_result"
    }
   ],
   "source": [
    "arch = mag.sequential_to_arch(mlp)\n",
    "type(arch), len(arch), arch[0], arch[1]"
   ]
  },
  {
   "cell_type": "markdown",
   "metadata": {},
   "source": [
    "48 input neurons, 96 hidden neurons, 12 output neurons and 1 bias neuron = 157 neurons in total -> 157 nodes in the graph"
   ]
  },
  {
   "cell_type": "code",
   "execution_count": 8,
   "metadata": {},
   "outputs": [],
   "source": [
    "graph = mag.arch_to_graph(arch)\n",
    "x, edge_index, edge_attr = graph"
   ]
  },
  {
   "cell_type": "code",
   "execution_count": 9,
   "metadata": {},
   "outputs": [
    {
     "data": {
      "text/plain": [
       "torch.Size([157, 3])"
      ]
     },
     "execution_count": 9,
     "metadata": {},
     "output_type": "execute_result"
    }
   ],
   "source": [
    "x.shape"
   ]
  },
  {
   "cell_type": "code",
   "execution_count": 10,
   "metadata": {},
   "outputs": [
    {
     "data": {
      "text/plain": [
       "(157, tensor([0, 4, 0]), tensor([ 2, 11,  0]))"
      ]
     },
     "execution_count": 10,
     "metadata": {},
     "output_type": "execute_result"
    }
   ],
   "source": [
    "len(x), x[4], x[-1]"
   ]
  },
  {
   "cell_type": "code",
   "execution_count": 11,
   "metadata": {},
   "outputs": [
    {
     "data": {
      "text/plain": [
       "torch.Size([2, 5856])"
      ]
     },
     "execution_count": 11,
     "metadata": {},
     "output_type": "execute_result"
    }
   ],
   "source": [
    "edge_index.shape"
   ]
  },
  {
   "cell_type": "code",
   "execution_count": 12,
   "metadata": {},
   "outputs": [
    {
     "data": {
      "text/plain": [
       "(torch.Tensor,\n",
       " torch.Size([5856, 6]),\n",
       " tensor([ 0.0488,  1.0000,  0.0000, -1.0000, -1.0000, -1.0000],\n",
       "        grad_fn=<SelectBackward0>))"
      ]
     },
     "execution_count": 12,
     "metadata": {},
     "output_type": "execute_result"
    }
   ],
   "source": [
    "type(edge_attr), edge_attr.shape, edge_attr[-1]"
   ]
  },
  {
   "cell_type": "code",
   "execution_count": 13,
   "metadata": {},
   "outputs": [],
   "source": [
    "gnn = EdgeMPNN(node_in_dim=3, edge_in_dim=6, hidden_dim=96, node_out_dim=4, edge_out_dim=4, num_layers=4, dropout=0.0, reduce='mean')\n",
    "x_out, edge_attr_out = gnn(x, edge_index, edge_attr)"
   ]
  },
  {
   "cell_type": "code",
   "execution_count": 14,
   "metadata": {},
   "outputs": [
    {
     "data": {
      "text/plain": [
       "(torch.Size([157, 4]), torch.Size([5856, 4]))"
      ]
     },
     "execution_count": 14,
     "metadata": {},
     "output_type": "execute_result"
    }
   ],
   "source": [
    "x_out.shape, edge_attr_out.shape"
   ]
  },
  {
   "cell_type": "markdown",
   "metadata": {},
   "source": [
    "can we do batch training?"
   ]
  },
  {
   "cell_type": "code",
   "execution_count": 11,
   "metadata": {},
   "outputs": [],
   "source": [
    "# Load config\n",
    "cfg = OmegaConf.load('/home/cizinsky/x-to-nif/configs/graph_conditional_gram_baseline.yaml')\n",
    "cfg.username = 'cizinsky'\n",
    "dataset = ParamDataset(cfg)\n",
    "samples = [dataset[i] for i in range(5)]\n",
    "\n",
    "# GNN definition\n",
    "gnn = EdgeMPNN(node_in_dim=3, edge_in_dim=6, hidden_dim=96, node_out_dim=4, edge_out_dim=4, num_layers=4, dropout=0.0, reduce='mean')\n",
    "\n"
   ]
  },
  {
   "cell_type": "code",
   "execution_count": 12,
   "metadata": {},
   "outputs": [],
   "source": [
    "graphs = []\n",
    "for sample in samples:\n",
    "    flat_weights = sample['weights']\n",
    "    w1, b1, w2 = unflatten_params(flat_weights, 48, 96, 12)\n",
    "\n",
    "    # Load weights into model\n",
    "    mlp = get_pretrained_sequential(w1, b1, w2)\n",
    "    arch = mag.sequential_to_arch(mlp)\n",
    "    graph = mag.arch_to_graph(arch)\n",
    "    graphs.append(graph)\n"
   ]
  }
 ],
 "metadata": {
  "language_info": {
   "name": "python"
  }
 },
 "nbformat": 4,
 "nbformat_minor": 2
}
